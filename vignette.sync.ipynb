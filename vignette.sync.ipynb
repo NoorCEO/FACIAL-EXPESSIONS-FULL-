{
 "cells": [
  {
   "cell_type": "code",
   "execution_count": 2,
   "id": "38ca24a3",
   "metadata": {},
   "outputs": [],
   "source": [
    "import numpy as np\n",
    "import cv2\n",
    "from pathlib import Path\n",
    "import imutils"
   ]
  },
  {
   "cell_type": "code",
   "execution_count": 5,
   "id": "fb1191e1",
   "metadata": {},
   "outputs": [
    {
     "name": "stdout",
     "output_type": "stream",
     "text": [
      "rotation failed /home/almapro/work/SOUROR/jaffedbase prepaired/sad/desktop.ini\n",
      "rotation failed /home/almapro/work/SOUROR/jaffedbase prepaired/SURPRISED/desktop.ini\n",
      "rotation failed /home/almapro/work/SOUROR/jaffedbase prepaired/happy/desktop.ini\n",
      "rotation failed /home/almapro/work/SOUROR/jaffedbase prepaired/FEAR/desktop.ini\n"
     ]
    }
   ],
   "source": [
    "INPUT_DIR = Path.cwd() / \"jaffedbase prepaired\"\n",
    "OUTPUT_DIR = Path.cwd() / \"jaffedbase augmented\"\n",
    "# create output dir if not exists\n",
    "OUTPUT_DIR.mkdir(exist_ok=True)\n",
    "# loop over the input directory looking for subdirectories\n",
    "for dir in Path(INPUT_DIR).iterdir():\n",
    "    if dir.is_dir():\n",
    "        # loop over the images in each directory + augmentation\n",
    "        for imagePath in dir.iterdir():\n",
    "            # load the input image from disk\n",
    "            image = cv2.imread(str(imagePath))\n",
    "            # randomly flip the image horizontally\n",
    "            if np.random.randint(2) == 0:\n",
    "                image = cv2.flip(image, 1)\n",
    "            # randomly flip the image vertically\n",
    "            if np.random.randint(2) == 0:\n",
    "                image = cv2.flip(image, 0)\n",
    "            # randomly rotate the image by the specified angle\n",
    "            angle = np.random.randint(-15, 15)\n",
    "            try:\n",
    "                image = imutils.rotate(image, angle)\n",
    "            except:\n",
    "                print(\"rotation failed\", imagePath)\n",
    "                continue\n",
    "            # write the image to disk\n",
    "            filename = imagePath.name\n",
    "            p = Path(OUTPUT_DIR) / dir.name\n",
    "            p.mkdir(exist_ok=True)\n",
    "            cv2.imwrite(str(p / filename), image)"
   ]
  }
 ],
 "metadata": {
  "kernelspec": {
   "display_name": "Python 3 (ipykernel)",
   "language": "python",
   "name": "python3"
  },
  "language_info": {
   "codemirror_mode": {
    "name": "ipython",
    "version": 3
   },
   "file_extension": ".py",
   "mimetype": "text/x-python",
   "name": "python",
   "nbconvert_exporter": "python",
   "pygments_lexer": "ipython3",
   "version": "3.10.2"
  }
 },
 "nbformat": 4,
 "nbformat_minor": 5
}
