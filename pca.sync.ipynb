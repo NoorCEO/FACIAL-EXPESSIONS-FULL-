{
 "cells": [
  {
   "cell_type": "code",
   "execution_count": 22,
   "id": "5cb38e84",
   "metadata": {},
   "outputs": [],
   "source": [
    "import pandas as pd\n",
    "import numpy as np\n",
    "from sklearn.decomposition import PCA\n",
    "import cv2\n",
    "from pathlib import Path\n",
    "\n",
    "INPUT_DIR = Path.cwd() / \"jaffedbase prepaired\"\n",
    "OUTPUT_DIR = Path.cwd() / \"jaffedbase augmented\"\n",
    "# create output dir if not exists\n",
    "OUTPUT_DIR.mkdir(exist_ok=True)"
   ]
  },
  {
   "cell_type": "code",
   "execution_count": 23,
   "id": "6bfb6383",
   "metadata": {},
   "outputs": [],
   "source": [
    "# loop over all directories in input dir\n",
    "for dir in INPUT_DIR.iterdir():\n",
    "    # loop over all files in dir\n",
    "    for file in dir.iterdir():\n",
    "        try:\n",
    "            # read image\n",
    "            img = cv2.cvtColor(cv2.imread(str(file)), cv2.COLOR_BGR2RGB)\n",
    "            # splitting into channels\n",
    "            b, g, r = cv2.split(img)\n",
    "            df_blue = b/255\n",
    "            df_green = g/255\n",
    "            df_red = r/255\n",
    "            pca_b = PCA(n_components=50)\n",
    "            pca_b.fit(df_blue)\n",
    "            trans_pca_b = pca_b.transform(df_blue)\n",
    "            pca_g = PCA(n_components=50)\n",
    "            pca_g.fit(df_green)\n",
    "            trans_pca_g = pca_g.transform(df_green)\n",
    "            pca_r = PCA(n_components=50)\n",
    "            pca_r.fit(df_red)\n",
    "            trans_pca_r = pca_r.transform(df_red)\n",
    "            b_arr = pca_b.inverse_transform(trans_pca_b)\n",
    "            g_arr = pca_g.inverse_transform(trans_pca_g)\n",
    "            r_arr = pca_r.inverse_transform(trans_pca_r)\n",
    "            img_reduced= (cv2.merge((b_arr, g_arr, r_arr)))\n",
    "            # create OUTPUT_DIR + dir if doesn't exist\n",
    "            output_path = OUTPUT_DIR / dir.name\n",
    "            output_path.mkdir(exist_ok=True)\n",
    "            lab_image = np.float32(img_reduced)\n",
    "            # lab_image = cv2.cvtColor(lab_image, cv2.COLOR_RGB2HSV)\n",
    "            # save image to output_path + file + '_pca' dot original extension\n",
    "            cv2.imwrite(str(output_path / file.name.replace(file.suffix, '_pca' + file.suffix)), lab_image)\n",
    "        except Exception as e:\n",
    "            print(e, file)\n",
    "            pass"
   ]
  }
 ],
 "metadata": {
  "kernelspec": {
   "display_name": "Python 3 (ipykernel)",
   "language": "python",
   "name": "python3"
  },
  "language_info": {
   "codemirror_mode": {
    "name": "ipython",
    "version": 3
   },
   "file_extension": ".py",
   "mimetype": "text/x-python",
   "name": "python",
   "nbconvert_exporter": "python",
   "pygments_lexer": "ipython3",
   "version": "3.10.2"
  }
 },
 "nbformat": 4,
 "nbformat_minor": 5
}
