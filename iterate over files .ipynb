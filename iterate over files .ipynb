{
 "cells": [
  {
   "cell_type": "code",
   "execution_count": 3,
   "id": "639fb2e5",
   "metadata": {},
   "outputs": [
    {
     "ename": "error",
     "evalue": "OpenCV(4.5.5) :-1: error: (-5:Bad argument) in function 'flip'\n> Overload resolution failed:\n>  - src is not a numpy array, neither a scalar\n>  - Expected Ptr<cv::UMat> for argument 'src'\n",
     "output_type": "error",
     "traceback": [
      "\u001b[1;31m---------------------------------------------------------------------------\u001b[0m",
      "\u001b[1;31merror\u001b[0m                                     Traceback (most recent call last)",
      "\u001b[1;32m~\\AppData\\Local\\Temp/ipykernel_15088/3872479993.py\u001b[0m in \u001b[0;36m<module>\u001b[1;34m\u001b[0m\n\u001b[0;32m     31\u001b[0m \u001b[1;31m# Driver Function\u001b[0m\u001b[1;33m\u001b[0m\u001b[1;33m\u001b[0m\u001b[0m\n\u001b[0;32m     32\u001b[0m \u001b[1;32mif\u001b[0m \u001b[0m__name__\u001b[0m \u001b[1;33m==\u001b[0m \u001b[1;34m'__main__'\u001b[0m\u001b[1;33m:\u001b[0m\u001b[1;33m\u001b[0m\u001b[1;33m\u001b[0m\u001b[0m\n\u001b[1;32m---> 33\u001b[1;33m     \u001b[0mmain\u001b[0m\u001b[1;33m(\u001b[0m\u001b[1;33m)\u001b[0m\u001b[1;33m\u001b[0m\u001b[1;33m\u001b[0m\u001b[0m\n\u001b[0m",
      "\u001b[1;32m~\\AppData\\Local\\Temp/ipykernel_15088/3872479993.py\u001b[0m in \u001b[0;36mmain\u001b[1;34m()\u001b[0m\n\u001b[0;32m     22\u001b[0m         \u001b[0mimg\u001b[0m \u001b[1;33m=\u001b[0m \u001b[0mImage\u001b[0m\u001b[1;33m.\u001b[0m\u001b[0mopen\u001b[0m\u001b[1;33m(\u001b[0m\u001b[0minputPath\u001b[0m\u001b[1;33m)\u001b[0m\u001b[1;33m\u001b[0m\u001b[1;33m\u001b[0m\u001b[0m\n\u001b[0;32m     23\u001b[0m         \u001b[0mrimg\u001b[0m\u001b[1;33m=\u001b[0m\u001b[0mimg\u001b[0m\u001b[1;33m.\u001b[0m\u001b[0mcopy\u001b[0m\u001b[1;33m(\u001b[0m\u001b[1;33m)\u001b[0m\u001b[1;33m\u001b[0m\u001b[1;33m\u001b[0m\u001b[0m\n\u001b[1;32m---> 24\u001b[1;33m         \u001b[0mrimg\u001b[0m\u001b[1;33m=\u001b[0m\u001b[0mcv2\u001b[0m\u001b[1;33m.\u001b[0m\u001b[0mflip\u001b[0m\u001b[1;33m(\u001b[0m\u001b[0mimg\u001b[0m\u001b[1;33m,\u001b[0m\u001b[1;36m1\u001b[0m\u001b[1;33m)\u001b[0m\u001b[1;33m\u001b[0m\u001b[1;33m\u001b[0m\u001b[0m\n\u001b[0m\u001b[0;32m     25\u001b[0m         \u001b[0mfullOutPath\u001b[0m \u001b[1;33m=\u001b[0m \u001b[0mos\u001b[0m\u001b[1;33m.\u001b[0m\u001b[0mpath\u001b[0m\u001b[1;33m.\u001b[0m\u001b[0mjoin\u001b[0m\u001b[1;33m(\u001b[0m\u001b[0moutPath\u001b[0m\u001b[1;33m,\u001b[0m \u001b[1;34m'invert_'\u001b[0m\u001b[1;33m+\u001b[0m\u001b[0mimagePath\u001b[0m\u001b[1;33m)\u001b[0m\u001b[1;33m\u001b[0m\u001b[1;33m\u001b[0m\u001b[0m\n\u001b[0;32m     26\u001b[0m         \u001b[1;31m# fullOutPath contains the path of the output\u001b[0m\u001b[1;33m\u001b[0m\u001b[1;33m\u001b[0m\u001b[0m\n",
      "\u001b[1;31merror\u001b[0m: OpenCV(4.5.5) :-1: error: (-5:Bad argument) in function 'flip'\n> Overload resolution failed:\n>  - src is not a numpy array, neither a scalar\n>  - Expected Ptr<cv::UMat> for argument 'src'\n"
     ]
    }
   ],
   "source": [
    "# Code to apply operations on all the images\n",
    "# present in a folder one by one\n",
    "# operations such as rotating, cropping, \n",
    "from PIL import Image\n",
    "from PIL import ImageFilter\n",
    "import os\n",
    "import numpy as np\n",
    "import cv2\n",
    "  \n",
    "def main():\n",
    "    # path of the folder containing the raw images\n",
    "    inPath =\"C:\\\\Users\\\\HP\\Desktop\\\\SOUROR\\\\jaffedbase prepaired\\\\angrey\"\n",
    "  \n",
    "    # path of the folder that will contain the modified image\n",
    "    outPath =\"C:\\\\Users\\HP\\\\Desktop\\\\SOUROR\\\\jaffedbase augmanted\\\\angryt\"\n",
    "  \n",
    "    for imagePath in os.listdir(inPath):\n",
    "        # imagePath contains name of the image \n",
    "        inputPath = os.path.join(inPath, imagePath)\n",
    "  \n",
    "        # inputPath contains the full directory name\n",
    "        img = Image.open(inputPath)\n",
    "        rimg=img.copy()\n",
    "        rimg=cv2.flip(img,1)\n",
    "        fullOutPath = os.path.join(outPath, 'invert_'+imagePath)\n",
    "        # fullOutPath contains the path of the output\n",
    "        # image that needs to be generated\n",
    "        rimg.save(fullOutPath)\n",
    "        \n",
    "  \n",
    "# Driver Function\n",
    "if __name__ == '__main__':\n",
    "    main()"
   ]
  },
  {
   "cell_type": "code",
   "execution_count": null,
   "id": "8a95f74d",
   "metadata": {},
   "outputs": [],
   "source": [
    "import numpy as np\n",
    "import cv2\n",
    "img=cv2.imread('C:\\\\Users\\\\HP\\Desktop\\\\SOUROR\\\\jaffedbase prepaired\\\\angrey\\\\KA.AN1.39.TIFF')\n",
    "rimg=img.copy()\n",
    "rimg=cv2.flip(img,1)\n",
    "cv2.imshow(\"Original\", img)\n",
    "cv2.imshow(\"vertical flip\", rimg)\n",
    "cv2.waitKey(0)\n",
    "cv2.destroyAllWindows()"
   ]
  },
  {
   "cell_type": "code",
   "execution_count": null,
   "id": "1ac1e96e",
   "metadata": {},
   "outputs": [],
   "source": [
    "البلوك الثانية هي الكود الأساسي تمام ؟\n",
    "البلوك الاولى هو مكان درته ونبي نحفظ فيه نتيجة البلوك في مجلد منفصل! \n",
    "مش محتاجة الا شوية تدقيق في الخطوات \" وانا حست\""
   ]
  }
 ],
 "metadata": {
  "kernelspec": {
   "display_name": "Python 3 (ipykernel)",
   "language": "python",
   "name": "python3"
  },
  "language_info": {
   "codemirror_mode": {
    "name": "ipython",
    "version": 3
   },
   "file_extension": ".py",
   "mimetype": "text/x-python",
   "name": "python",
   "nbconvert_exporter": "python",
   "pygments_lexer": "ipython3",
   "version": "3.9.7"
  }
 },
 "nbformat": 4,
 "nbformat_minor": 5
}
