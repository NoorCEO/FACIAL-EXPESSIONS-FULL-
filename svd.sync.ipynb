{
 "cells": [
  {
   "cell_type": "code",
   "execution_count": 8,
   "id": "1139636d",
   "metadata": {},
   "outputs": [],
   "source": [
    "%matplotlib inline\n",
    "import matplotlib.pyplot as plt\n",
    "import numpy as np\n",
    "from PIL import Image\n",
    "from pathlib import Path\n",
    "\n",
    "INPUT_DIR = Path.cwd() / \"jaffedbase prepaired\"\n",
    "OUTPUT_DIR = Path.cwd() / \"jaffedbase augmented\"\n",
    "# create output dir if not exists\n",
    "OUTPUT_DIR.mkdir(exist_ok=True)"
   ]
  },
  {
   "cell_type": "code",
   "execution_count": 9,
   "id": "2a2f9aa3",
   "metadata": {},
   "outputs": [],
   "source": [
    "# loop over all directories in the input directory\n",
    "for dir in INPUT_DIR.iterdir():\n",
    "    # loop over all files in the directory\n",
    "    for file in dir.iterdir():\n",
    "        # load the image and convert it to grayscale\n",
    "        image = Image.open(file)\n",
    "        image = image.convert(\"LA\")\n",
    "        imgmat = np.array(list(image.getdata(band=0)), float)\n",
    "        imgmat.shape = (image.size[1], image.size[0])\n",
    "        imgmat = np.matrix(imgmat)\n",
    "        U, S, V = np.linalg.svd(imgmat)\n",
    "        # reconstitute the image\n",
    "        imgmat = np.dot(U, np.dot(np.diag(S), V))\n",
    "        # create output path in the output directory\n",
    "        outpath = OUTPUT_DIR / dir.name\n",
    "        outpath.mkdir(exist_ok=True)\n",
    "        # save image in output path + file + \"_svd\" dot original file ending\n",
    "        plt.imsave(outpath / file.name.replace(file.suffix, \"_svd\" + file.suffix), imgmat, cmap=\"gray\")"
   ]
  }
 ],
 "metadata": {
  "kernelspec": {
   "display_name": "Python 3 (ipykernel)",
   "language": "python",
   "name": "python3"
  },
  "language_info": {
   "codemirror_mode": {
    "name": "ipython",
    "version": 3
   },
   "file_extension": ".py",
   "mimetype": "text/x-python",
   "name": "python",
   "nbconvert_exporter": "python",
   "pygments_lexer": "ipython3",
   "version": "3.10.2"
  }
 },
 "nbformat": 4,
 "nbformat_minor": 5
}
