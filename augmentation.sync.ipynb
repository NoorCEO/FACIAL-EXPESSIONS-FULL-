{
 "cells": [
  {
   "cell_type": "code",
   "execution_count": 3,
   "id": "8aa6b1fe",
   "metadata": {},
   "outputs": [],
   "source": [
    "import torchvision.transforms as transforms\n",
    "from torchvision.utils import save_image\n",
    "import os\n",
    "import cv2\n",
    "\n",
    "my_transforms = transforms.Compose([\n",
    "    transforms.ToPILImage(),\n",
    "    transforms.Resize(size=(266, 266)),\n",
    "    transforms.RandomCrop(size=(265, 265)),\n",
    "    transforms.ColorJitter(brightness=0.2),\n",
    "    transforms.RandomRotation(degrees=45),\n",
    "    transforms.RandomHorizontalFlip(p=0.2),\n",
    "    transforms.RandomVerticalFlip(p=0.2),\n",
    "    transforms.RandomGrayscale(p=0.2),\n",
    "    transforms.ToTensor(),\n",
    "    transforms.Normalize((0, 0, 0), (1, 1, 1))\n",
    "])\n",
    "\n",
    "data_dir = os.getcwd() + '/jaffedbase prepaired/'\n",
    "output_dir = os.getcwd() + '/jaffedbase augmented/'"
   ]
  },
  {
   "cell_type": "code",
   "execution_count": 7,
   "id": "e9387cae",
   "metadata": {},
   "outputs": [],
   "source": [
    "# loop over folders in `data_dir`\n",
    "for folder in os.listdir(data_dir):\n",
    "    # loop over files in each folder\n",
    "    for file in os.listdir(data_dir + folder):\n",
    "        # load image\n",
    "        img = cv2.imread(data_dir + folder + '/' + file)\n",
    "        # apply transforms\n",
    "        img = my_transforms(img)\n",
    "        # create output directory if it doesn't exist\n",
    "        if not os.path.exists(output_dir + folder):\n",
    "            os.makedirs(output_dir + folder)\n",
    "        # get filename without extension using `os.path.splitext`\n",
    "        filename, extension = os.path.splitext(file)\n",
    "        # save image\n",
    "        save_image(img, output_dir + folder + '/transforms_' + filename + '.png')"
   ]
  }
 ],
 "metadata": {
  "kernelspec": {
   "display_name": "base",
   "language": "python",
   "name": "base"
  },
  "language_info": {
   "codemirror_mode": {
    "name": "ipython",
    "version": 3
   },
   "file_extension": ".py",
   "mimetype": "text/x-python",
   "name": "python",
   "nbconvert_exporter": "python",
   "pygments_lexer": "ipython3",
   "version": "3.9.7"
  }
 },
 "nbformat": 4,
 "nbformat_minor": 5
}
