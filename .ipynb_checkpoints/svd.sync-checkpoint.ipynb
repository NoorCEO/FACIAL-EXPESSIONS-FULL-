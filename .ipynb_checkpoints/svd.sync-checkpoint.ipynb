{
 "cells": [
  {
   "cell_type": "code",
   "execution_count": null,
   "id": "1139636d",
   "metadata": {},
   "outputs": [],
   "source": [
    "%matplotlib inline\n",
    "import matplotlib.pyplot as plt\n",
    "import numpy as np\n",
    "import time\n",
    "from PIL import Image\n",
    "from pathlib import Path\n",
    "\n",
    "INPUT_DIR = Path.cwd() / \"jaffedbase prepaired\"\n",
    "OUTPUT_DIR = Path.cwd() / \"jaffedbase augmented\"\n",
    "# create output dir if not exists\n",
    "OUTPUT_DIR.mkdir(exist_ok=True)"
   ]
  },
  {
   "cell_type": "code",
   "execution_count": null,
   "id": "a19a42c9",
   "metadata": {},
   "outputs": [],
   "source": [
    "# loop over all directories in the input directory\n",
    "for dir in INPUT_DIR.iterdir():\n",
    "    # loop over all files in the directory\n",
    "    for file in dir.iterdir():\n",
    "        # load the image and convert it to grayscale\n",
    "        image = np.array(Image.open(file))\n",
    "        gray = np.mean(image, axis=2)\n",
    "        # compute the SVD\n",
    "        U, S, V = np.linalg.svd(gray)\n",
    "        # create a new image from the SVD components\n",
    "        new_image = np.dot(U, np.dot(np.diag(S), V))\n",
    "        # save the new image\n",
    "        new_image = Image.fromarray(new_image)\n",
    "        new_image.save(OUTPUT_DIR / file.name)\n",
    "        # show the original and new image\n",
    "        fig, (ax1, ax2) = plt.subplots(1, 2, figsize=(8, 4))\n",
    "        ax1.imshow(gray, cmap=\"gray\")\n",
    "        ax2.imshow(new_image, cmap=\"gray\")\n",
    "        plt.show()\n",
    "        time.sleep(1)"
   ]
  }
 ],
 "metadata": {
  "kernelspec": {
   "display_name": "Python 3 (ipykernel)",
   "language": "python",
   "name": "python3"
  },
  "language_info": {
   "codemirror_mode": {
    "name": "ipython",
    "version": 3
   },
   "file_extension": ".py",
   "mimetype": "text/x-python",
   "name": "python",
   "nbconvert_exporter": "python",
   "pygments_lexer": "ipython3",
   "version": "3.10.2"
  }
 },
 "nbformat": 4,
 "nbformat_minor": 5
}
