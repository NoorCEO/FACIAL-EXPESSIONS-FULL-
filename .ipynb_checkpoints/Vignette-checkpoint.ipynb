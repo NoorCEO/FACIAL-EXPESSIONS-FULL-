{
 "cells": [
  {
   "cell_type": "code",
   "execution_count": 2,
   "id": "65ef1a86",
   "metadata": {},
   "outputs": [],
   "source": [
    "#ONLY FOR ONE IMAGE"
   ]
  },
  {
   "cell_type": "code",
   "execution_count": 8,
   "id": "e1ac51cb",
   "metadata": {},
   "outputs": [],
   "source": [
    "import numpy as np\n",
    "import cv2\n",
    "img=cv2.imread('C:\\\\Users\\\\HP\\Desktop\\\\SOUROR\\\\jaffedbase prepaired\\\\angrey\\\\KA.AN1.39.TIFF')\n",
    "rimg=img.copy()\n",
    "rimg=cv2.flip(img,1)\n",
    "cv2.imshow(\"Original\", img)\n",
    "cv2.imshow(\"vertical flip\", rimg)\n",
    "cv2.waitKey(0)\n",
    "cv2.destroyAllWindows()"
   ]
  },
  {
   "cell_type": "code",
   "execution_count": null,
   "id": "73f6c065",
   "metadata": {},
   "outputs": [],
   "source": [
    "#FOR A FOLDER"
   ]
  },
  {
   "cell_type": "code",
   "execution_count": 1,
   "id": "b245be65",
   "metadata": {},
   "outputs": [
    {
     "ename": "TypeError",
     "evalue": "Path.cwd() takes 1 positional argument but 2 were given",
     "output_type": "error",
     "traceback": [
      "\u001b[0;31m---------------------------------------------------------------------------\u001b[0m",
      "\u001b[0;31mTypeError\u001b[0m                                 Traceback (most recent call last)",
      "Input \u001b[0;32mIn [1]\u001b[0m, in \u001b[0;36m<module>\u001b[0;34m\u001b[0m\n\u001b[1;32m      1\u001b[0m \u001b[38;5;28;01mfrom\u001b[39;00m \u001b[38;5;21;01mpathlib\u001b[39;00m \u001b[38;5;28;01mimport\u001b[39;00m Path\n\u001b[0;32m----> 2\u001b[0m INPUT_DIR \u001b[38;5;241m=\u001b[39m \u001b[43mPath\u001b[49m\u001b[38;5;241;43m.\u001b[39;49m\u001b[43mcwd\u001b[49m\u001b[43m(\u001b[49m\u001b[38;5;124;43m\"\u001b[39;49m\u001b[38;5;124;43mC:\u001b[39;49m\u001b[38;5;130;43;01m\\\\\u001b[39;49;00m\u001b[38;5;124;43mUsers\u001b[39;49m\u001b[38;5;124;43m\\\u001b[39;49m\u001b[38;5;124;43mHP\u001b[39;49m\u001b[38;5;124;43m\\\u001b[39;49m\u001b[38;5;124;43mDesktop\u001b[39;49m\u001b[38;5;124;43m\\\u001b[39;49m\u001b[38;5;124;43mSOUROR\u001b[39;49m\u001b[38;5;130;43;01m\\\\\u001b[39;49;00m\u001b[38;5;124;43maffedbase prepaired\u001b[39;49m\u001b[38;5;124;43m\"\u001b[39;49m\u001b[43m)\u001b[49m \u001b[38;5;241m/\u001b[39m \u001b[38;5;124m\"\u001b[39m\u001b[38;5;124mYour_Folder_Name\u001b[39m\u001b[38;5;124m\"\u001b[39m\n\u001b[1;32m      3\u001b[0m \u001b[38;5;28;01mfor\u001b[39;00m file \u001b[38;5;129;01min\u001b[39;00m \u001b[38;5;28mlist\u001b[39m(INPUT_DIR\u001b[38;5;241m.\u001b[39mrglob(\u001b[38;5;124m\"\u001b[39m\u001b[38;5;124m*.TIFF*\u001b[39m\u001b[38;5;124m\"\u001b[39m)):\n\u001b[1;32m      4\u001b[0m     \u001b[38;5;28;01mif\u001b[39;00m file\u001b[38;5;241m.\u001b[39mendswith(\u001b[38;5;124m\"\u001b[39m\u001b[38;5;124m.TIFF\u001b[39m\u001b[38;5;124m\"\u001b[39m):\n",
      "\u001b[0;31mTypeError\u001b[0m: Path.cwd() takes 1 positional argument but 2 were given"
     ]
    }
   ],
   "source": [
    "from pathlib import Path\n",
    "INPUT_DIR = Path.cwd() + \"/\"\n",
    "for file in list(INPUT_DIR.rglob(\"*.TIFF*\")):\n",
    "    if file.endswith(\".TIFF\"):\n",
    "        rimg=img.copy()\n",
    "        rimg=cv2.flip(img,1)\n",
    "        im1 = im1.save(\"geeks.TIFF\")\n",
    "\n",
    "        \n",
    "    # Do something"
   ]
  },
  {
   "cell_type": "code",
   "execution_count": null,
   "id": "a6122cdc",
   "metadata": {},
   "outputs": [],
   "source": []
  }
 ],
 "metadata": {
  "kernelspec": {
   "display_name": "Python 3 (ipykernel)",
   "language": "python",
   "name": "python3"
  },
  "language_info": {
   "codemirror_mode": {
    "name": "ipython",
    "version": 3
   },
   "file_extension": ".py",
   "mimetype": "text/x-python",
   "name": "python",
   "nbconvert_exporter": "python",
   "pygments_lexer": "ipython3",
   "version": "3.10.2"
  }
 },
 "nbformat": 4,
 "nbformat_minor": 5
}
