{
 "cells": [
  {
   "cell_type": "code",
   "execution_count": 2,
   "id": "38ca24a3",
   "metadata": {},
   "outputs": [],
   "source": [
    "import numpy as np\n",
    "import cv2\n",
    "from pathlib import Path\n",
    "import imutils"
   ]
  },
  {
   "cell_type": "code",
   "execution_count": 4,
   "id": "7c81e191",
   "metadata": {},
   "outputs": [
    {
     "ename": "AttributeError",
     "evalue": "'NoneType' object has no attribute 'shape'",
     "output_type": "error",
     "traceback": [
      "\u001b[0;31m---------------------------------------------------------------------------\u001b[0m",
      "\u001b[0;31mAttributeError\u001b[0m                            Traceback (most recent call last)",
      "Input \u001b[0;32mIn [4]\u001b[0m, in \u001b[0;36m<module>\u001b[0;34m\u001b[0m\n\u001b[1;32m     16\u001b[0m \u001b[38;5;66;03m# randomly rotate the image by the specified angle\u001b[39;00m\n\u001b[1;32m     17\u001b[0m angle \u001b[38;5;241m=\u001b[39m np\u001b[38;5;241m.\u001b[39mrandom\u001b[38;5;241m.\u001b[39mrandint(\u001b[38;5;241m-\u001b[39m\u001b[38;5;241m15\u001b[39m, \u001b[38;5;241m15\u001b[39m)\n\u001b[0;32m---> 18\u001b[0m image \u001b[38;5;241m=\u001b[39m \u001b[43mimutils\u001b[49m\u001b[38;5;241;43m.\u001b[39;49m\u001b[43mrotate\u001b[49m\u001b[43m(\u001b[49m\u001b[43mimage\u001b[49m\u001b[43m,\u001b[49m\u001b[43m \u001b[49m\u001b[43mangle\u001b[49m\u001b[43m)\u001b[49m\n\u001b[1;32m     19\u001b[0m \u001b[38;5;66;03m# write the image to disk\u001b[39;00m\n\u001b[1;32m     20\u001b[0m filename \u001b[38;5;241m=\u001b[39m imagePath\u001b[38;5;241m.\u001b[39mname\n",
      "File \u001b[0;32m~/.local/lib/python3.10/site-packages/imutils/convenience.py:27\u001b[0m, in \u001b[0;36mrotate\u001b[0;34m(image, angle, center, scale)\u001b[0m\n\u001b[1;32m     25\u001b[0m \u001b[38;5;28;01mdef\u001b[39;00m \u001b[38;5;21mrotate\u001b[39m(image, angle, center\u001b[38;5;241m=\u001b[39m\u001b[38;5;28;01mNone\u001b[39;00m, scale\u001b[38;5;241m=\u001b[39m\u001b[38;5;241m1.0\u001b[39m):\n\u001b[1;32m     26\u001b[0m     \u001b[38;5;66;03m# grab the dimensions of the image\u001b[39;00m\n\u001b[0;32m---> 27\u001b[0m     (h, w) \u001b[38;5;241m=\u001b[39m \u001b[43mimage\u001b[49m\u001b[38;5;241;43m.\u001b[39;49m\u001b[43mshape\u001b[49m[:\u001b[38;5;241m2\u001b[39m]\n\u001b[1;32m     29\u001b[0m     \u001b[38;5;66;03m# if the center is None, initialize it as the center of\u001b[39;00m\n\u001b[1;32m     30\u001b[0m     \u001b[38;5;66;03m# the image\u001b[39;00m\n\u001b[1;32m     31\u001b[0m     \u001b[38;5;28;01mif\u001b[39;00m center \u001b[38;5;129;01mis\u001b[39;00m \u001b[38;5;28;01mNone\u001b[39;00m:\n",
      "\u001b[0;31mAttributeError\u001b[0m: 'NoneType' object has no attribute 'shape'"
     ]
    }
   ],
   "source": [
    "INPUT_DIR = Path.cwd().absolute().as_posix() + \"/jaffedbase prepaired\"\n",
    "OUTPUT_DIR = Path.cwd().absolute().as_posix() + \"/jaffedbase augmented\"\n",
    "# loop over the input directory looking for subdirectories\n",
    "for dir in Path(INPUT_DIR).iterdir():\n",
    "    if dir.is_dir():\n",
    "        # loop over the images in each directory + augmentation\n",
    "        for imagePath in dir.iterdir():\n",
    "            # load the input image from disk\n",
    "            image = cv2.imread(str(imagePath))\n",
    "            # randomly flip the image horizontally\n",
    "            if np.random.randint(2) == 0:\n",
    "                image = cv2.flip(image, 1)\n",
    "            # randomly flip the image vertically\n",
    "            if np.random.randint(2) == 0:\n",
    "                image = cv2.flip(image, 0)\n",
    "            # randomly rotate the image by the specified angle\n",
    "            angle = np.random.randint(-15, 15)\n",
    "            image = imutils.rotate(image, angle)\n",
    "            # write the image to disk\n",
    "            filename = imagePath.name\n",
    "            p = Path(OUTPUT_DIR) / dir.name\n",
    "            p.mkdir(exist_ok=True)\n",
    "            cv2.imwrite(str(p / filename), image)"
   ]
  }
 ],
 "metadata": {
  "kernelspec": {
   "display_name": "Python 3 (ipykernel)",
   "language": "python",
   "name": "python3"
  },
  "language_info": {
   "codemirror_mode": {
    "name": "ipython",
    "version": 3
   },
   "file_extension": ".py",
   "mimetype": "text/x-python",
   "name": "python",
   "nbconvert_exporter": "python",
   "pygments_lexer": "ipython3",
   "version": "3.10.2"
  }
 },
 "nbformat": 4,
 "nbformat_minor": 5
}
